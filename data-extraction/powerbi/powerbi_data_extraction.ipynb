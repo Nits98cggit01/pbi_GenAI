{
 "cells": [
  {
   "cell_type": "code",
   "execution_count": 1,
   "id": "104cf474",
   "metadata": {},
   "outputs": [
    {
     "name": "stdout",
     "output_type": "stream",
     "text": [
      "A local browser window will open for interactive sign in.\n",
      "\n",
      "Interactive authentication successfully completed.\n",
      "You are now logged in.\n",
      "\n",
      "The result should be passed only to trusted code in your notebook.\n"
     ]
    }
   ],
   "source": [
    "%run pbi_visual_extracts.ipynb"
   ]
  },
  {
   "cell_type": "code",
   "execution_count": 2,
   "id": "b1eded63",
   "metadata": {},
   "outputs": [],
   "source": [
    "url, report_name = read_details_file()\n",
    "url = url\n",
    "report_name = report_name"
   ]
  },
  {
   "cell_type": "code",
   "execution_count": 3,
   "id": "f84a3ee9",
   "metadata": {},
   "outputs": [
    {
     "ename": "AttributeError",
     "evalue": "'NoneType' object has no attribute 'group'",
     "output_type": "error",
     "traceback": [
      "\u001b[1;31m---------------------------------------------------------------------------\u001b[0m",
      "\u001b[1;31mAttributeError\u001b[0m                            Traceback (most recent call last)",
      "\u001b[1;32m~\\AppData\\Local\\Temp\\ipykernel_14892\\1683297527.py\u001b[0m in \u001b[0;36m<module>\u001b[1;34m\u001b[0m\n\u001b[1;32m----> 1\u001b[1;33m \u001b[0mreport\u001b[0m \u001b[1;33m=\u001b[0m \u001b[0mrender_pbi_report\u001b[0m\u001b[1;33m(\u001b[0m\u001b[0murl\u001b[0m\u001b[1;33m)\u001b[0m\u001b[1;33m\u001b[0m\u001b[1;33m\u001b[0m\u001b[0m\n\u001b[0m\u001b[0;32m      2\u001b[0m \u001b[0mreport\u001b[0m\u001b[1;33m\u001b[0m\u001b[1;33m\u001b[0m\u001b[0m\n",
      "\u001b[1;32m~\\AppData\\Local\\Temp\\ipykernel_14892\\3292609711.py\u001b[0m in \u001b[0;36mrender_pbi_report\u001b[1;34m(url)\u001b[0m\n\u001b[0;32m      1\u001b[0m \u001b[1;32mdef\u001b[0m \u001b[0mrender_pbi_report\u001b[0m\u001b[1;33m(\u001b[0m\u001b[0murl\u001b[0m\u001b[1;33m)\u001b[0m\u001b[1;33m:\u001b[0m\u001b[1;33m\u001b[0m\u001b[1;33m\u001b[0m\u001b[0m\n\u001b[0;32m      2\u001b[0m     \u001b[0mgroup_id\u001b[0m \u001b[1;33m=\u001b[0m \u001b[0mre\u001b[0m\u001b[1;33m.\u001b[0m\u001b[0msearch\u001b[0m\u001b[1;33m(\u001b[0m\u001b[1;34mr'groups/([^/]+)/'\u001b[0m\u001b[1;33m,\u001b[0m \u001b[0murl\u001b[0m\u001b[1;33m)\u001b[0m\u001b[1;33m.\u001b[0m\u001b[0mgroup\u001b[0m\u001b[1;33m(\u001b[0m\u001b[1;36m1\u001b[0m\u001b[1;33m)\u001b[0m\u001b[1;33m\u001b[0m\u001b[1;33m\u001b[0m\u001b[0m\n\u001b[1;32m----> 3\u001b[1;33m     \u001b[0mreport_id\u001b[0m \u001b[1;33m=\u001b[0m \u001b[0mre\u001b[0m\u001b[1;33m.\u001b[0m\u001b[0msearch\u001b[0m\u001b[1;33m(\u001b[0m\u001b[1;34mr'reports/([^/]+)/'\u001b[0m\u001b[1;33m,\u001b[0m \u001b[0murl\u001b[0m\u001b[1;33m)\u001b[0m\u001b[1;33m.\u001b[0m\u001b[0mgroup\u001b[0m\u001b[1;33m(\u001b[0m\u001b[1;36m1\u001b[0m\u001b[1;33m)\u001b[0m\u001b[1;33m\u001b[0m\u001b[1;33m\u001b[0m\u001b[0m\n\u001b[0m\u001b[0;32m      4\u001b[0m \u001b[1;33m\u001b[0m\u001b[0m\n\u001b[0;32m      5\u001b[0m     \u001b[0mreport\u001b[0m \u001b[1;33m=\u001b[0m \u001b[0mReport\u001b[0m\u001b[1;33m(\u001b[0m\u001b[0mgroup_id\u001b[0m \u001b[1;33m=\u001b[0m \u001b[0mgroup_id\u001b[0m\u001b[1;33m,\u001b[0m \u001b[0mreport_id\u001b[0m \u001b[1;33m=\u001b[0m \u001b[0mreport_id\u001b[0m\u001b[1;33m,\u001b[0m \u001b[0mauth\u001b[0m \u001b[1;33m=\u001b[0m \u001b[0mdevice_auth\u001b[0m\u001b[1;33m)\u001b[0m\u001b[1;33m\u001b[0m\u001b[1;33m\u001b[0m\u001b[0m\n",
      "\u001b[1;31mAttributeError\u001b[0m: 'NoneType' object has no attribute 'group'"
     ]
    }
   ],
   "source": [
    "report = render_pbi_report(url)\n",
    "report"
   ]
  },
  {
   "cell_type": "code",
   "execution_count": 8,
   "id": "1342eac8",
   "metadata": {},
   "outputs": [
    {
     "name": "stdout",
     "output_type": "stream",
     "text": [
      "Enter the dataframe name: anamoly\n"
     ]
    }
   ],
   "source": [
    "df_name = input(\"Enter the dataframe name: \")"
   ]
  },
  {
   "cell_type": "code",
   "execution_count": 9,
   "id": "c9e7e3af",
   "metadata": {},
   "outputs": [
    {
     "name": "stdout",
     "output_type": "stream",
     "text": [
      "Entered try loop 0 : ReportSection909ea50e7939156807d6 ; 01af2f16cdd3b0443588\n",
      "C:\\Users\\NITINS\\OneDrive - Capgemini\\CAPGEMINI\\PROJECT\\GEN AI\\powerbi-usecase\\summarization\\bulk-file-handling\\report-narration\\artificial\\read_folder\\artificial_Anomaly Detection_Revenue Won by Manager and Product category.csv\n",
      "Entered try loop 1 : ReportSection909ea50e7939156807d6 ; dffa0f419ae872471ebc\n",
      "C:\\Users\\NITINS\\OneDrive - Capgemini\\CAPGEMINI\\PROJECT\\GEN AI\\powerbi-usecase\\summarization\\bulk-file-handling\\report-narration\\artificial\\read_folder\\artificial_Anomaly Detection_Revenue Won by Product.csv\n",
      "Entered try loop 2 : ReportSection909ea50e7939156807d6 ; fc17242bbbb17dca1d06\n",
      "C:\\Users\\NITINS\\OneDrive - Capgemini\\CAPGEMINI\\PROJECT\\GEN AI\\powerbi-usecase\\summarization\\bulk-file-handling\\report-narration\\artificial\\read_folder\\artificial_Anomaly Detection_Revenue Won by Year and Month.csv\n",
      "Entered try loop 3 : ReportSection909ea50e7939156807d6 ; 973daaf957db1570ac87\n",
      "C:\\Users\\NITINS\\OneDrive - Capgemini\\CAPGEMINI\\PROJECT\\GEN AI\\powerbi-usecase\\summarization\\bulk-file-handling\\report-narration\\artificial\\read_folder\\artificial_Anomaly Detection_Date slicer.csv\n"
     ]
    },
    {
     "data": {
      "text/html": [
       "<div>\n",
       "<style scoped>\n",
       "    .dataframe tbody tr th:only-of-type {\n",
       "        vertical-align: middle;\n",
       "    }\n",
       "\n",
       "    .dataframe tbody tr th {\n",
       "        vertical-align: top;\n",
       "    }\n",
       "\n",
       "    .dataframe thead th {\n",
       "        text-align: right;\n",
       "    }\n",
       "</style>\n",
       "<table border=\"1\" class=\"dataframe\">\n",
       "  <thead>\n",
       "    <tr style=\"text-align: right;\">\n",
       "      <th></th>\n",
       "      <th>Page_id</th>\n",
       "      <th>Page_Name</th>\n",
       "      <th>Visual_ID</th>\n",
       "      <th>Visualization</th>\n",
       "      <th>Title</th>\n",
       "    </tr>\n",
       "  </thead>\n",
       "  <tbody>\n",
       "    <tr>\n",
       "      <th>0</th>\n",
       "      <td>ReportSection909ea50e7939156807d6</td>\n",
       "      <td>Anomaly Detection</td>\n",
       "      <td>01af2f16cdd3b0443588</td>\n",
       "      <td>clusteredBarChart</td>\n",
       "      <td>Revenue Won by Manager and Product category</td>\n",
       "    </tr>\n",
       "    <tr>\n",
       "      <th>1</th>\n",
       "      <td>ReportSection909ea50e7939156807d6</td>\n",
       "      <td>Anomaly Detection</td>\n",
       "      <td>dffa0f419ae872471ebc</td>\n",
       "      <td>barChart</td>\n",
       "      <td>Revenue Won by Product</td>\n",
       "    </tr>\n",
       "    <tr>\n",
       "      <th>71</th>\n",
       "      <td>ReportSection909ea50e7939156807d6</td>\n",
       "      <td>Anomaly Detection</td>\n",
       "      <td>fc17242bbbb17dca1d06</td>\n",
       "      <td>lineChart</td>\n",
       "      <td>Revenue Won by Year and Month</td>\n",
       "    </tr>\n",
       "    <tr>\n",
       "      <th>74</th>\n",
       "      <td>ReportSection909ea50e7939156807d6</td>\n",
       "      <td>Anomaly Detection</td>\n",
       "      <td>973daaf957db1570ac87</td>\n",
       "      <td>slicer</td>\n",
       "      <td>Date slicer</td>\n",
       "    </tr>\n",
       "  </tbody>\n",
       "</table>\n",
       "</div>"
      ],
      "text/plain": [
       "                              Page_id          Page_Name  \\\n",
       "0   ReportSection909ea50e7939156807d6  Anomaly Detection   \n",
       "1   ReportSection909ea50e7939156807d6  Anomaly Detection   \n",
       "71  ReportSection909ea50e7939156807d6  Anomaly Detection   \n",
       "74  ReportSection909ea50e7939156807d6  Anomaly Detection   \n",
       "\n",
       "               Visual_ID      Visualization  \\\n",
       "0   01af2f16cdd3b0443588  clusteredBarChart   \n",
       "1   dffa0f419ae872471ebc           barChart   \n",
       "71  fc17242bbbb17dca1d06          lineChart   \n",
       "74  973daaf957db1570ac87             slicer   \n",
       "\n",
       "                                          Title  \n",
       "0   Revenue Won by Manager and Product category  \n",
       "1                        Revenue Won by Product  \n",
       "71                Revenue Won by Year and Month  \n",
       "74                                  Date slicer  "
      ]
     },
     "execution_count": 9,
     "metadata": {},
     "output_type": "execute_result"
    }
   ],
   "source": [
    "df3 =  get_visual_data(report,df_name,report_name)\n",
    "df3"
   ]
  },
  {
   "cell_type": "code",
   "execution_count": null,
   "id": "f2e877f4",
   "metadata": {},
   "outputs": [],
   "source": []
  },
  {
   "cell_type": "code",
   "execution_count": 10,
   "id": "30b6e80b",
   "metadata": {},
   "outputs": [
    {
     "data": {
      "text/html": [
       "<div>\n",
       "<style scoped>\n",
       "    .dataframe tbody tr th:only-of-type {\n",
       "        vertical-align: middle;\n",
       "    }\n",
       "\n",
       "    .dataframe tbody tr th {\n",
       "        vertical-align: top;\n",
       "    }\n",
       "\n",
       "    .dataframe thead th {\n",
       "        text-align: right;\n",
       "    }\n",
       "</style>\n",
       "<table border=\"1\" class=\"dataframe\">\n",
       "  <thead>\n",
       "    <tr style=\"text-align: right;\">\n",
       "      <th></th>\n",
       "      <th>Page_id</th>\n",
       "      <th>Page_Name</th>\n",
       "      <th>Visual_ID</th>\n",
       "      <th>Visualization</th>\n",
       "      <th>Title</th>\n",
       "    </tr>\n",
       "  </thead>\n",
       "  <tbody>\n",
       "    <tr>\n",
       "      <th>0</th>\n",
       "      <td>ReportSection76c409e0c333d60bb1e2</td>\n",
       "      <td>Key Influencers</td>\n",
       "      <td>01af2f16cdd3b0443588</td>\n",
       "      <td>barChart</td>\n",
       "      <td>Close % by Product category</td>\n",
       "    </tr>\n",
       "    <tr>\n",
       "      <th>1</th>\n",
       "      <td>ReportSection76c409e0c333d60bb1e2</td>\n",
       "      <td>Key Influencers</td>\n",
       "      <td>ec80685720004c638d61</td>\n",
       "      <td>keyDriversVisual</td>\n",
       "      <td>Key Influencers</td>\n",
       "    </tr>\n",
       "    <tr>\n",
       "      <th>2</th>\n",
       "      <td>ReportSection76c409e0c333d60bb1e2</td>\n",
       "      <td>Key Influencers</td>\n",
       "      <td>dffa0f419ae872471ebc</td>\n",
       "      <td>barChart</td>\n",
       "      <td>Revenue Won by Product</td>\n",
       "    </tr>\n",
       "    <tr>\n",
       "      <th>3</th>\n",
       "      <td>ReportSectionacd41c847407a998c130</td>\n",
       "      <td>Decomposition Tree</td>\n",
       "      <td>143a9f40e6397414f4d5</td>\n",
       "      <td>barChart</td>\n",
       "      <td>Sales Opportunity by Campaign Type</td>\n",
       "    </tr>\n",
       "    <tr>\n",
       "      <th>4</th>\n",
       "      <td>ReportSectionacd41c847407a998c130</td>\n",
       "      <td>Decomposition Tree</td>\n",
       "      <td>24a67f1afa332056d39b</td>\n",
       "      <td>barChart</td>\n",
       "      <td>Opportunity Count by Region</td>\n",
       "    </tr>\n",
       "    <tr>\n",
       "      <th>5</th>\n",
       "      <td>ReportSectionacd41c847407a998c130</td>\n",
       "      <td>Decomposition Tree</td>\n",
       "      <td>954d6f9432c76cbb2ca1</td>\n",
       "      <td>decompositionTreeVisual</td>\n",
       "      <td>Decomposition tree</td>\n",
       "    </tr>\n",
       "    <tr>\n",
       "      <th>6</th>\n",
       "      <td>ReportSection909ea50e7939156807d6</td>\n",
       "      <td>Anomaly Detection</td>\n",
       "      <td>01af2f16cdd3b0443588</td>\n",
       "      <td>clusteredBarChart</td>\n",
       "      <td>Revenue Won by Manager and Product category</td>\n",
       "    </tr>\n",
       "    <tr>\n",
       "      <th>7</th>\n",
       "      <td>ReportSection909ea50e7939156807d6</td>\n",
       "      <td>Anomaly Detection</td>\n",
       "      <td>dffa0f419ae872471ebc</td>\n",
       "      <td>barChart</td>\n",
       "      <td>Revenue Won by Product</td>\n",
       "    </tr>\n",
       "    <tr>\n",
       "      <th>8</th>\n",
       "      <td>ReportSection909ea50e7939156807d6</td>\n",
       "      <td>Anomaly Detection</td>\n",
       "      <td>fc17242bbbb17dca1d06</td>\n",
       "      <td>lineChart</td>\n",
       "      <td>Revenue Won by Year and Month</td>\n",
       "    </tr>\n",
       "    <tr>\n",
       "      <th>9</th>\n",
       "      <td>ReportSection909ea50e7939156807d6</td>\n",
       "      <td>Anomaly Detection</td>\n",
       "      <td>973daaf957db1570ac87</td>\n",
       "      <td>slicer</td>\n",
       "      <td>Date slicer</td>\n",
       "    </tr>\n",
       "  </tbody>\n",
       "</table>\n",
       "</div>"
      ],
      "text/plain": [
       "                             Page_id           Page_Name  \\\n",
       "0  ReportSection76c409e0c333d60bb1e2     Key Influencers   \n",
       "1  ReportSection76c409e0c333d60bb1e2     Key Influencers   \n",
       "2  ReportSection76c409e0c333d60bb1e2     Key Influencers   \n",
       "3  ReportSectionacd41c847407a998c130  Decomposition Tree   \n",
       "4  ReportSectionacd41c847407a998c130  Decomposition Tree   \n",
       "5  ReportSectionacd41c847407a998c130  Decomposition Tree   \n",
       "6  ReportSection909ea50e7939156807d6   Anomaly Detection   \n",
       "7  ReportSection909ea50e7939156807d6   Anomaly Detection   \n",
       "8  ReportSection909ea50e7939156807d6   Anomaly Detection   \n",
       "9  ReportSection909ea50e7939156807d6   Anomaly Detection   \n",
       "\n",
       "              Visual_ID            Visualization  \\\n",
       "0  01af2f16cdd3b0443588                 barChart   \n",
       "1  ec80685720004c638d61         keyDriversVisual   \n",
       "2  dffa0f419ae872471ebc                 barChart   \n",
       "3  143a9f40e6397414f4d5                 barChart   \n",
       "4  24a67f1afa332056d39b                 barChart   \n",
       "5  954d6f9432c76cbb2ca1  decompositionTreeVisual   \n",
       "6  01af2f16cdd3b0443588        clusteredBarChart   \n",
       "7  dffa0f419ae872471ebc                 barChart   \n",
       "8  fc17242bbbb17dca1d06                lineChart   \n",
       "9  973daaf957db1570ac87                   slicer   \n",
       "\n",
       "                                         Title  \n",
       "0                  Close % by Product category  \n",
       "1                              Key Influencers  \n",
       "2                       Revenue Won by Product  \n",
       "3           Sales Opportunity by Campaign Type  \n",
       "4                  Opportunity Count by Region  \n",
       "5                           Decomposition tree  \n",
       "6  Revenue Won by Manager and Product category  \n",
       "7                       Revenue Won by Product  \n",
       "8                Revenue Won by Year and Month  \n",
       "9                                  Date slicer  "
      ]
     },
     "execution_count": 10,
     "metadata": {},
     "output_type": "execute_result"
    }
   ],
   "source": [
    "def get_consolidated_pgviz(df1,df2,df3):\n",
    "    final_df = pd.concat([df1,df2,df3], ignore_index = True)\n",
    "    file_path = os.path.join(ROOT_PATH,report_name, f\"{report_name}_MasterData.csv\")\n",
    "    final_df.to_csv(file_path)\n",
    "    return final_df\n",
    "\n",
    "final_df = get_consolidated_pgviz(df1,df2,df3)\n",
    "final_df"
   ]
  },
  {
   "cell_type": "code",
   "execution_count": null,
   "id": "57f41a12",
   "metadata": {},
   "outputs": [],
   "source": []
  }
 ],
 "metadata": {
  "kernelspec": {
   "display_name": "Python 3 (ipykernel)",
   "language": "python",
   "name": "python3"
  },
  "language_info": {
   "codemirror_mode": {
    "name": "ipython",
    "version": 3
   },
   "file_extension": ".py",
   "mimetype": "text/x-python",
   "name": "python",
   "nbconvert_exporter": "python",
   "pygments_lexer": "ipython3",
   "version": "3.9.13"
  }
 },
 "nbformat": 4,
 "nbformat_minor": 5
}
