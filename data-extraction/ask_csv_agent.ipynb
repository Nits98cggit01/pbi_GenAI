{
 "cells": [
  {
   "cell_type": "code",
   "execution_count": 3,
   "id": "647f4937",
   "metadata": {},
   "outputs": [
    {
     "name": "stdout",
     "output_type": "stream",
     "text": [
      "An error occurred: [Errno 2] No such file or directory: 'C:\\\\Users\\\\NITINS\\\\OneDrive - Capgemini\\\\CAPGEMINI\\\\PROJECT\\\\GEN AI\\\\powerbi-usecase\\\\summarization\\\\bulk-file-handling\\\\report-narration\\\\csv_agent_response.txt'\n"
     ]
    }
   ],
   "source": [
    "%run csv_agent_helper.ipynb"
   ]
  }
 ],
 "metadata": {
  "kernelspec": {
   "display_name": "Python 3 (ipykernel)",
   "language": "python",
   "name": "python3"
  },
  "language_info": {
   "codemirror_mode": {
    "name": "ipython",
    "version": 3
   },
   "file_extension": ".py",
   "mimetype": "text/x-python",
   "name": "python",
   "nbconvert_exporter": "python",
   "pygments_lexer": "ipython3",
   "version": "3.9.13"
  }
 },
 "nbformat": 4,
 "nbformat_minor": 5
}
